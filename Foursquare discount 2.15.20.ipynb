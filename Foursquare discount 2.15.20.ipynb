{
 "cells": [
  {
   "cell_type": "code",
   "execution_count": 1,
   "metadata": {},
   "outputs": [],
   "source": [
    "import pandas as pd\n",
    "import requests\n",
    "from bs4 import BeautifulSoup\n",
    "import numpy as np\n",
    "\n",
    "import json # library to handle JSON files\n",
    "import requests # library to handle requests\n",
    "from pandas.io.json import json_normalize # tranform JSON file into a pandas dataframe"
   ]
  },
  {
   "cell_type": "code",
   "execution_count": 2,
   "metadata": {},
   "outputs": [
    {
     "data": {
      "text/html": [
       "<div>\n",
       "<style scoped>\n",
       "    .dataframe tbody tr th:only-of-type {\n",
       "        vertical-align: middle;\n",
       "    }\n",
       "\n",
       "    .dataframe tbody tr th {\n",
       "        vertical-align: top;\n",
       "    }\n",
       "\n",
       "    .dataframe thead th {\n",
       "        text-align: right;\n",
       "    }\n",
       "</style>\n",
       "<table border=\"1\" class=\"dataframe\">\n",
       "  <thead>\n",
       "    <tr style=\"text-align: right;\">\n",
       "      <th></th>\n",
       "      <th>Lat1</th>\n",
       "      <th>Long1</th>\n",
       "      <th>Lat2</th>\n",
       "      <th>Long2</th>\n",
       "    </tr>\n",
       "  </thead>\n",
       "  <tbody>\n",
       "    <tr>\n",
       "      <th>0</th>\n",
       "      <td>39.27</td>\n",
       "      <td>-76.710000</td>\n",
       "      <td>39.187143</td>\n",
       "      <td>-76.833333</td>\n",
       "    </tr>\n",
       "    <tr>\n",
       "      <th>1</th>\n",
       "      <td>39.27</td>\n",
       "      <td>-76.833333</td>\n",
       "      <td>39.187143</td>\n",
       "      <td>-76.956667</td>\n",
       "    </tr>\n",
       "    <tr>\n",
       "      <th>2</th>\n",
       "      <td>39.27</td>\n",
       "      <td>-76.956667</td>\n",
       "      <td>39.187143</td>\n",
       "      <td>-77.080000</td>\n",
       "    </tr>\n",
       "    <tr>\n",
       "      <th>3</th>\n",
       "      <td>39.27</td>\n",
       "      <td>-77.080000</td>\n",
       "      <td>39.187143</td>\n",
       "      <td>-77.203333</td>\n",
       "    </tr>\n",
       "    <tr>\n",
       "      <th>4</th>\n",
       "      <td>39.27</td>\n",
       "      <td>-77.203333</td>\n",
       "      <td>39.187143</td>\n",
       "      <td>-77.326667</td>\n",
       "    </tr>\n",
       "  </tbody>\n",
       "</table>\n",
       "</div>"
      ],
      "text/plain": [
       "    Lat1      Long1       Lat2      Long2\n",
       "0  39.27 -76.710000  39.187143 -76.833333\n",
       "1  39.27 -76.833333  39.187143 -76.956667\n",
       "2  39.27 -76.956667  39.187143 -77.080000\n",
       "3  39.27 -77.080000  39.187143 -77.203333\n",
       "4  39.27 -77.203333  39.187143 -77.326667"
      ]
     },
     "execution_count": 2,
     "metadata": {},
     "output_type": "execute_result"
    }
   ],
   "source": [
    "url_dmv = 'https://raw.githubusercontent.com/kansjs/IBM_applied_capstone_share/master/DMV_grid2.csv'\n",
    "dmv_grid = pd.read_csv(url_dmv)\n",
    "dmv_grid.head()"
   ]
  },
  {
   "cell_type": "code",
   "execution_count": 3,
   "metadata": {},
   "outputs": [
    {
     "data": {
      "text/plain": [
       "(42, 4)"
      ]
     },
     "execution_count": 3,
     "metadata": {},
     "output_type": "execute_result"
    }
   ],
   "source": [
    "dmv_grid.shape"
   ]
  },
  {
   "cell_type": "code",
   "execution_count": 2,
   "metadata": {},
   "outputs": [],
   "source": [
    "CLIENT_ID = '' # your Foursquare ID\n",
    "CLIENT_SECRET = '' # your Foursquare Secret\n",
    "VERSION = '20180605' # Foursquare API version\n"
   ]
  },
  {
   "cell_type": "code",
   "execution_count": 5,
   "metadata": {},
   "outputs": [],
   "source": [
    "categoryId = '52dea92d3cf9994f4e043dbb'\n",
    "LIMIT = 100"
   ]
  },
  {
   "cell_type": "code",
   "execution_count": 6,
   "metadata": {},
   "outputs": [],
   "source": [
    "def getNearbyVenues(latitude1, longitude1, latitude2, longitude2):\n",
    "    venues_list=[]\n",
    "   \n",
    "    for Lat1, Long1, Lat2, Long2 in zip(latitude1, longitude1, latitude2, longitude2):\n",
    "            \n",
    "        # create the API request URL\n",
    "        url = 'https://api.foursquare.com/v2/venues/explore?&client_id={}&client_secret={}&v={}&intent=browse&ne={},{}&sw={},{}&limit={}&categoryId={}'.format(\n",
    "            CLIENT_ID, \n",
    "            CLIENT_SECRET, \n",
    "            VERSION, \n",
    "            Lat1, \n",
    "            Long1, \n",
    "            Lat2,\n",
    "            Long2,\n",
    "            LIMIT,\n",
    "            categoryId)\n",
    "            \n",
    "        # make the GET request\n",
    "        results = requests.get(url).json()[\"response\"]['groups'][0]['items']\n",
    "        \n",
    "        # return only relevant information for each nearby venue\n",
    "        venues_list.append([(\n",
    "            v['venue']['name'], \n",
    "            v['venue']['location']['lat'], \n",
    "            v['venue']['location']['lng'],\n",
    "            v['venue']['categories'][0]['name']) for v in results])\n",
    "\n",
    "    nearby_venues = pd.DataFrame([item for venue_list in venues_list for item in venue_list])\n",
    "    nearby_venues.columns = [\n",
    "                  'Venue', \n",
    "                  'Latitude', \n",
    "                  'Longitude',\n",
    "                  'Venue Category']\n",
    "    \n",
    "    return(nearby_venues)"
   ]
  },
  {
   "cell_type": "code",
   "execution_count": 7,
   "metadata": {},
   "outputs": [],
   "source": [
    "Discount = getNearbyVenues(latitude1 = dmv_grid['Lat1'], \n",
    "                               longitude1 = dmv_grid['Long1'], \n",
    "                               latitude2 = dmv_grid['Lat2'], \n",
    "                               longitude2 = dmv_grid['Long2']\n",
    "                                  )"
   ]
  },
  {
   "cell_type": "code",
   "execution_count": 8,
   "metadata": {},
   "outputs": [
    {
     "data": {
      "text/html": [
       "<div>\n",
       "<style scoped>\n",
       "    .dataframe tbody tr th:only-of-type {\n",
       "        vertical-align: middle;\n",
       "    }\n",
       "\n",
       "    .dataframe tbody tr th {\n",
       "        vertical-align: top;\n",
       "    }\n",
       "\n",
       "    .dataframe thead th {\n",
       "        text-align: right;\n",
       "    }\n",
       "</style>\n",
       "<table border=\"1\" class=\"dataframe\">\n",
       "  <thead>\n",
       "    <tr style=\"text-align: right;\">\n",
       "      <th></th>\n",
       "      <th>Venue</th>\n",
       "      <th>Latitude</th>\n",
       "      <th>Longitude</th>\n",
       "      <th>Venue Category</th>\n",
       "    </tr>\n",
       "  </thead>\n",
       "  <tbody>\n",
       "    <tr>\n",
       "      <th>0</th>\n",
       "      <td>Nordstrom Rack</td>\n",
       "      <td>39.195553</td>\n",
       "      <td>-76.811755</td>\n",
       "      <td>Discount Store</td>\n",
       "    </tr>\n",
       "    <tr>\n",
       "      <th>1</th>\n",
       "      <td>Linq Services</td>\n",
       "      <td>39.190040</td>\n",
       "      <td>-76.747227</td>\n",
       "      <td>Discount Store</td>\n",
       "    </tr>\n",
       "    <tr>\n",
       "      <th>2</th>\n",
       "      <td>Hobby Lobby</td>\n",
       "      <td>39.183617</td>\n",
       "      <td>-76.816762</td>\n",
       "      <td>Fabric Shop</td>\n",
       "    </tr>\n",
       "    <tr>\n",
       "      <th>3</th>\n",
       "      <td>Five Below</td>\n",
       "      <td>39.155372</td>\n",
       "      <td>-76.725045</td>\n",
       "      <td>Discount Store</td>\n",
       "    </tr>\n",
       "    <tr>\n",
       "      <th>4</th>\n",
       "      <td>Nike Factory Store</td>\n",
       "      <td>39.157145</td>\n",
       "      <td>-76.724887</td>\n",
       "      <td>Sporting Goods Shop</td>\n",
       "    </tr>\n",
       "  </tbody>\n",
       "</table>\n",
       "</div>"
      ],
      "text/plain": [
       "                Venue   Latitude  Longitude       Venue Category\n",
       "0      Nordstrom Rack  39.195553 -76.811755       Discount Store\n",
       "1       Linq Services  39.190040 -76.747227       Discount Store\n",
       "2         Hobby Lobby  39.183617 -76.816762          Fabric Shop\n",
       "3          Five Below  39.155372 -76.725045       Discount Store\n",
       "4  Nike Factory Store  39.157145 -76.724887  Sporting Goods Shop"
      ]
     },
     "execution_count": 8,
     "metadata": {},
     "output_type": "execute_result"
    }
   ],
   "source": [
    "Discount.head()"
   ]
  },
  {
   "cell_type": "code",
   "execution_count": 9,
   "metadata": {},
   "outputs": [
    {
     "data": {
      "text/plain": [
       "(187, 4)"
      ]
     },
     "execution_count": 9,
     "metadata": {},
     "output_type": "execute_result"
    }
   ],
   "source": [
    "Discount.shape"
   ]
  },
  {
   "cell_type": "code",
   "execution_count": 10,
   "metadata": {},
   "outputs": [],
   "source": [
    "Discount.to_csv('Discount.2.9.20.csv', index=False)"
   ]
  },
  {
   "cell_type": "code",
   "execution_count": null,
   "metadata": {},
   "outputs": [],
   "source": []
  }
 ],
 "metadata": {
  "kernelspec": {
   "display_name": "Python 3",
   "language": "python",
   "name": "python3"
  },
  "language_info": {
   "codemirror_mode": {
    "name": "ipython",
    "version": 3
   },
   "file_extension": ".py",
   "mimetype": "text/x-python",
   "name": "python",
   "nbconvert_exporter": "python",
   "pygments_lexer": "ipython3",
   "version": "3.7.0"
  }
 },
 "nbformat": 4,
 "nbformat_minor": 2
}
