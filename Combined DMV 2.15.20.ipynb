{
 "cells": [
  {
   "cell_type": "code",
   "execution_count": 1,
   "metadata": {},
   "outputs": [],
   "source": [
    "import pandas as pd\n",
    "import requests\n",
    "from bs4 import BeautifulSoup\n",
    "import numpy as np\n",
    "\n",
    "import json # library to handle JSON files\n",
    "import requests # library to handle requests\n",
    "from pandas.io.json import json_normalize # tranform JSON file into a pandas dataframe"
   ]
  },
  {
   "cell_type": "markdown",
   "metadata": {},
   "source": [
    "#### Supermarket data"
   ]
  },
  {
   "cell_type": "code",
   "execution_count": 2,
   "metadata": {},
   "outputs": [
    {
     "data": {
      "text/html": [
       "<div>\n",
       "<style scoped>\n",
       "    .dataframe tbody tr th:only-of-type {\n",
       "        vertical-align: middle;\n",
       "    }\n",
       "\n",
       "    .dataframe tbody tr th {\n",
       "        vertical-align: top;\n",
       "    }\n",
       "\n",
       "    .dataframe thead th {\n",
       "        text-align: right;\n",
       "    }\n",
       "</style>\n",
       "<table border=\"1\" class=\"dataframe\">\n",
       "  <thead>\n",
       "    <tr style=\"text-align: right;\">\n",
       "      <th></th>\n",
       "      <th>Venue</th>\n",
       "      <th>Latitude</th>\n",
       "      <th>Longitude</th>\n",
       "      <th>Venue Category</th>\n",
       "    </tr>\n",
       "  </thead>\n",
       "  <tbody>\n",
       "    <tr>\n",
       "      <th>0</th>\n",
       "      <td>Trader Joe's</td>\n",
       "      <td>39.188164</td>\n",
       "      <td>-76.795467</td>\n",
       "      <td>Supermarket</td>\n",
       "    </tr>\n",
       "    <tr>\n",
       "      <th>1</th>\n",
       "      <td>Target</td>\n",
       "      <td>39.197493</td>\n",
       "      <td>-76.813360</td>\n",
       "      <td>Big Box Store</td>\n",
       "    </tr>\n",
       "    <tr>\n",
       "      <th>2</th>\n",
       "      <td>Giant</td>\n",
       "      <td>39.210065</td>\n",
       "      <td>-76.778580</td>\n",
       "      <td>Supermarket</td>\n",
       "    </tr>\n",
       "    <tr>\n",
       "      <th>3</th>\n",
       "      <td>Green Valley Marketplace</td>\n",
       "      <td>39.206965</td>\n",
       "      <td>-76.729124</td>\n",
       "      <td>Supermarket</td>\n",
       "    </tr>\n",
       "    <tr>\n",
       "      <th>4</th>\n",
       "      <td>Safeway</td>\n",
       "      <td>39.251080</td>\n",
       "      <td>-76.818721</td>\n",
       "      <td>Supermarket</td>\n",
       "    </tr>\n",
       "  </tbody>\n",
       "</table>\n",
       "</div>"
      ],
      "text/plain": [
       "                      Venue   Latitude  Longitude Venue Category\n",
       "0              Trader Joe's  39.188164 -76.795467    Supermarket\n",
       "1                    Target  39.197493 -76.813360  Big Box Store\n",
       "2                     Giant  39.210065 -76.778580    Supermarket\n",
       "3  Green Valley Marketplace  39.206965 -76.729124    Supermarket\n",
       "4                   Safeway  39.251080 -76.818721    Supermarket"
      ]
     },
     "execution_count": 2,
     "metadata": {},
     "output_type": "execute_result"
    }
   ],
   "source": [
    "url_supermarket = 'https://raw.githubusercontent.com/kansjs/IBM_applied_capstone_share/master/Supermarkets.2.8.20.csv'\n",
    "supermarket = pd.read_csv(url_supermarket)\n",
    "supermarket.head()"
   ]
  },
  {
   "cell_type": "code",
   "execution_count": 3,
   "metadata": {},
   "outputs": [
    {
     "data": {
      "text/plain": [
       "(311, 4)"
      ]
     },
     "execution_count": 3,
     "metadata": {},
     "output_type": "execute_result"
    }
   ],
   "source": [
    "supermarket.shape"
   ]
  },
  {
   "cell_type": "code",
   "execution_count": 4,
   "metadata": {},
   "outputs": [
    {
     "data": {
      "text/plain": [
       "array(['Supermarket', 'Big Box Store', 'Grocery Store', 'Cupcake Shop',\n",
       "       'Gourmet Shop', 'Eastern European Restaurant',\n",
       "       'Miscellaneous Shop', 'Liquor Store', 'Bakery', 'Butcher'],\n",
       "      dtype=object)"
      ]
     },
     "execution_count": 4,
     "metadata": {},
     "output_type": "execute_result"
    }
   ],
   "source": [
    "supermarket['Venue Category'].unique()"
   ]
  },
  {
   "cell_type": "code",
   "execution_count": 5,
   "metadata": {},
   "outputs": [],
   "source": [
    "supermarket_list = ['Supermarket', 'Big Box Store', 'Grocery Store']"
   ]
  },
  {
   "cell_type": "code",
   "execution_count": 6,
   "metadata": {},
   "outputs": [
    {
     "data": {
      "text/html": [
       "<div>\n",
       "<style scoped>\n",
       "    .dataframe tbody tr th:only-of-type {\n",
       "        vertical-align: middle;\n",
       "    }\n",
       "\n",
       "    .dataframe tbody tr th {\n",
       "        vertical-align: top;\n",
       "    }\n",
       "\n",
       "    .dataframe thead th {\n",
       "        text-align: right;\n",
       "    }\n",
       "</style>\n",
       "<table border=\"1\" class=\"dataframe\">\n",
       "  <thead>\n",
       "    <tr style=\"text-align: right;\">\n",
       "      <th></th>\n",
       "      <th>Venue</th>\n",
       "      <th>Latitude</th>\n",
       "      <th>Longitude</th>\n",
       "      <th>Venue Category</th>\n",
       "    </tr>\n",
       "  </thead>\n",
       "  <tbody>\n",
       "    <tr>\n",
       "      <th>0</th>\n",
       "      <td>Trader Joe's</td>\n",
       "      <td>39.188164</td>\n",
       "      <td>-76.795467</td>\n",
       "      <td>Supermarket</td>\n",
       "    </tr>\n",
       "    <tr>\n",
       "      <th>1</th>\n",
       "      <td>Target</td>\n",
       "      <td>39.197493</td>\n",
       "      <td>-76.813360</td>\n",
       "      <td>Big Box Store</td>\n",
       "    </tr>\n",
       "    <tr>\n",
       "      <th>2</th>\n",
       "      <td>Giant</td>\n",
       "      <td>39.210065</td>\n",
       "      <td>-76.778580</td>\n",
       "      <td>Supermarket</td>\n",
       "    </tr>\n",
       "    <tr>\n",
       "      <th>3</th>\n",
       "      <td>Green Valley Marketplace</td>\n",
       "      <td>39.206965</td>\n",
       "      <td>-76.729124</td>\n",
       "      <td>Supermarket</td>\n",
       "    </tr>\n",
       "    <tr>\n",
       "      <th>4</th>\n",
       "      <td>Safeway</td>\n",
       "      <td>39.251080</td>\n",
       "      <td>-76.818721</td>\n",
       "      <td>Supermarket</td>\n",
       "    </tr>\n",
       "  </tbody>\n",
       "</table>\n",
       "</div>"
      ],
      "text/plain": [
       "                      Venue   Latitude  Longitude Venue Category\n",
       "0              Trader Joe's  39.188164 -76.795467    Supermarket\n",
       "1                    Target  39.197493 -76.813360  Big Box Store\n",
       "2                     Giant  39.210065 -76.778580    Supermarket\n",
       "3  Green Valley Marketplace  39.206965 -76.729124    Supermarket\n",
       "4                   Safeway  39.251080 -76.818721    Supermarket"
      ]
     },
     "execution_count": 6,
     "metadata": {},
     "output_type": "execute_result"
    }
   ],
   "source": [
    "supermarket = supermarket.loc[supermarket['Venue Category'].isin(supermarket_list)]\n",
    "supermarket.head()"
   ]
  },
  {
   "cell_type": "code",
   "execution_count": 7,
   "metadata": {},
   "outputs": [
    {
     "data": {
      "text/plain": [
       "(303, 4)"
      ]
     },
     "execution_count": 7,
     "metadata": {},
     "output_type": "execute_result"
    }
   ],
   "source": [
    "supermarket.shape"
   ]
  },
  {
   "cell_type": "code",
   "execution_count": 8,
   "metadata": {},
   "outputs": [
    {
     "data": {
      "text/html": [
       "<div>\n",
       "<style scoped>\n",
       "    .dataframe tbody tr th:only-of-type {\n",
       "        vertical-align: middle;\n",
       "    }\n",
       "\n",
       "    .dataframe tbody tr th {\n",
       "        vertical-align: top;\n",
       "    }\n",
       "\n",
       "    .dataframe thead th {\n",
       "        text-align: right;\n",
       "    }\n",
       "</style>\n",
       "<table border=\"1\" class=\"dataframe\">\n",
       "  <thead>\n",
       "    <tr style=\"text-align: right;\">\n",
       "      <th></th>\n",
       "      <th>Venue</th>\n",
       "      <th>Latitude</th>\n",
       "      <th>Longitude</th>\n",
       "      <th>Venue Category</th>\n",
       "      <th>food_group</th>\n",
       "    </tr>\n",
       "  </thead>\n",
       "  <tbody>\n",
       "    <tr>\n",
       "      <th>0</th>\n",
       "      <td>Trader Joe's</td>\n",
       "      <td>39.188164</td>\n",
       "      <td>-76.795467</td>\n",
       "      <td>Supermarket</td>\n",
       "      <td>Supermarket</td>\n",
       "    </tr>\n",
       "    <tr>\n",
       "      <th>1</th>\n",
       "      <td>Target</td>\n",
       "      <td>39.197493</td>\n",
       "      <td>-76.813360</td>\n",
       "      <td>Big Box Store</td>\n",
       "      <td>Supermarket</td>\n",
       "    </tr>\n",
       "    <tr>\n",
       "      <th>2</th>\n",
       "      <td>Giant</td>\n",
       "      <td>39.210065</td>\n",
       "      <td>-76.778580</td>\n",
       "      <td>Supermarket</td>\n",
       "      <td>Supermarket</td>\n",
       "    </tr>\n",
       "    <tr>\n",
       "      <th>3</th>\n",
       "      <td>Green Valley Marketplace</td>\n",
       "      <td>39.206965</td>\n",
       "      <td>-76.729124</td>\n",
       "      <td>Supermarket</td>\n",
       "      <td>Supermarket</td>\n",
       "    </tr>\n",
       "    <tr>\n",
       "      <th>4</th>\n",
       "      <td>Safeway</td>\n",
       "      <td>39.251080</td>\n",
       "      <td>-76.818721</td>\n",
       "      <td>Supermarket</td>\n",
       "      <td>Supermarket</td>\n",
       "    </tr>\n",
       "  </tbody>\n",
       "</table>\n",
       "</div>"
      ],
      "text/plain": [
       "                      Venue   Latitude  Longitude Venue Category   food_group\n",
       "0              Trader Joe's  39.188164 -76.795467    Supermarket  Supermarket\n",
       "1                    Target  39.197493 -76.813360  Big Box Store  Supermarket\n",
       "2                     Giant  39.210065 -76.778580    Supermarket  Supermarket\n",
       "3  Green Valley Marketplace  39.206965 -76.729124    Supermarket  Supermarket\n",
       "4                   Safeway  39.251080 -76.818721    Supermarket  Supermarket"
      ]
     },
     "execution_count": 8,
     "metadata": {},
     "output_type": "execute_result"
    }
   ],
   "source": [
    "supermarket = supermarket.assign(food_group = 'Supermarket')\n",
    "supermarket.head()"
   ]
  },
  {
   "cell_type": "code",
   "execution_count": null,
   "metadata": {},
   "outputs": [],
   "source": []
  },
  {
   "cell_type": "markdown",
   "metadata": {},
   "source": [
    "#### Fast food data"
   ]
  },
  {
   "cell_type": "code",
   "execution_count": 9,
   "metadata": {},
   "outputs": [
    {
     "data": {
      "text/html": [
       "<div>\n",
       "<style scoped>\n",
       "    .dataframe tbody tr th:only-of-type {\n",
       "        vertical-align: middle;\n",
       "    }\n",
       "\n",
       "    .dataframe tbody tr th {\n",
       "        vertical-align: top;\n",
       "    }\n",
       "\n",
       "    .dataframe thead th {\n",
       "        text-align: right;\n",
       "    }\n",
       "</style>\n",
       "<table border=\"1\" class=\"dataframe\">\n",
       "  <thead>\n",
       "    <tr style=\"text-align: right;\">\n",
       "      <th></th>\n",
       "      <th>Venue</th>\n",
       "      <th>Latitude</th>\n",
       "      <th>Longitude</th>\n",
       "      <th>Venue Category</th>\n",
       "    </tr>\n",
       "  </thead>\n",
       "  <tbody>\n",
       "    <tr>\n",
       "      <th>0</th>\n",
       "      <td>Chick-fil-A</td>\n",
       "      <td>39.197625</td>\n",
       "      <td>-76.818496</td>\n",
       "      <td>Fast Food Restaurant</td>\n",
       "    </tr>\n",
       "    <tr>\n",
       "      <th>1</th>\n",
       "      <td>Tropical Smoothie Cafe</td>\n",
       "      <td>39.194549</td>\n",
       "      <td>-76.818504</td>\n",
       "      <td>Café</td>\n",
       "    </tr>\n",
       "    <tr>\n",
       "      <th>2</th>\n",
       "      <td>Five Guys</td>\n",
       "      <td>39.194824</td>\n",
       "      <td>-76.818855</td>\n",
       "      <td>Fast Food Restaurant</td>\n",
       "    </tr>\n",
       "    <tr>\n",
       "      <th>3</th>\n",
       "      <td>Qdoba Mexican Grill</td>\n",
       "      <td>39.199208</td>\n",
       "      <td>-76.819599</td>\n",
       "      <td>Fast Food Restaurant</td>\n",
       "    </tr>\n",
       "    <tr>\n",
       "      <th>4</th>\n",
       "      <td>Chick-fil-A</td>\n",
       "      <td>39.235150</td>\n",
       "      <td>-76.814688</td>\n",
       "      <td>Fast Food Restaurant</td>\n",
       "    </tr>\n",
       "  </tbody>\n",
       "</table>\n",
       "</div>"
      ],
      "text/plain": [
       "                    Venue   Latitude  Longitude        Venue Category\n",
       "0             Chick-fil-A  39.197625 -76.818496  Fast Food Restaurant\n",
       "1  Tropical Smoothie Cafe  39.194549 -76.818504                  Café\n",
       "2               Five Guys  39.194824 -76.818855  Fast Food Restaurant\n",
       "3     Qdoba Mexican Grill  39.199208 -76.819599  Fast Food Restaurant\n",
       "4             Chick-fil-A  39.235150 -76.814688  Fast Food Restaurant"
      ]
     },
     "execution_count": 9,
     "metadata": {},
     "output_type": "execute_result"
    }
   ],
   "source": [
    "url_fast_food = 'https://raw.githubusercontent.com/kansjs/IBM_applied_capstone_share/master/Fast_food.2.8.20.csv'\n",
    "fast_food = pd.read_csv(url_fast_food)\n",
    "fast_food.head()"
   ]
  },
  {
   "cell_type": "code",
   "execution_count": 10,
   "metadata": {},
   "outputs": [
    {
     "data": {
      "text/plain": [
       "(1245, 4)"
      ]
     },
     "execution_count": 10,
     "metadata": {},
     "output_type": "execute_result"
    }
   ],
   "source": [
    "fast_food.shape"
   ]
  },
  {
   "cell_type": "code",
   "execution_count": 11,
   "metadata": {},
   "outputs": [
    {
     "data": {
      "text/plain": [
       "array(['Fast Food Restaurant', 'Café', 'Indian Restaurant',\n",
       "       'Mexican Restaurant', 'Bar', 'American Restaurant',\n",
       "       'Breakfast Spot', 'Sandwich Place', 'Chinese Restaurant',\n",
       "       'Taco Place', 'Bakery', 'Wings Joint', 'Deli / Bodega',\n",
       "       'Pizza Place', 'Italian Restaurant', 'Salad Place',\n",
       "       'Fried Chicken Joint', 'Mediterranean Restaurant', 'Coffee Shop',\n",
       "       'Steakhouse', 'Brewery', 'Burger Joint', 'Diner', 'Gastropub',\n",
       "       'Sushi Restaurant', 'Food Truck', 'Sports Bar',\n",
       "       'Seafood Restaurant', 'French Restaurant', 'Thai Restaurant'],\n",
       "      dtype=object)"
      ]
     },
     "execution_count": 11,
     "metadata": {},
     "output_type": "execute_result"
    }
   ],
   "source": [
    "fast_food['Venue Category'].unique()"
   ]
  },
  {
   "cell_type": "code",
   "execution_count": 12,
   "metadata": {},
   "outputs": [],
   "source": [
    "fast_food_list = ['Fast Food Restaurant']"
   ]
  },
  {
   "cell_type": "code",
   "execution_count": 13,
   "metadata": {},
   "outputs": [
    {
     "data": {
      "text/html": [
       "<div>\n",
       "<style scoped>\n",
       "    .dataframe tbody tr th:only-of-type {\n",
       "        vertical-align: middle;\n",
       "    }\n",
       "\n",
       "    .dataframe tbody tr th {\n",
       "        vertical-align: top;\n",
       "    }\n",
       "\n",
       "    .dataframe thead th {\n",
       "        text-align: right;\n",
       "    }\n",
       "</style>\n",
       "<table border=\"1\" class=\"dataframe\">\n",
       "  <thead>\n",
       "    <tr style=\"text-align: right;\">\n",
       "      <th></th>\n",
       "      <th>Venue</th>\n",
       "      <th>Latitude</th>\n",
       "      <th>Longitude</th>\n",
       "      <th>Venue Category</th>\n",
       "    </tr>\n",
       "  </thead>\n",
       "  <tbody>\n",
       "    <tr>\n",
       "      <th>0</th>\n",
       "      <td>Chick-fil-A</td>\n",
       "      <td>39.197625</td>\n",
       "      <td>-76.818496</td>\n",
       "      <td>Fast Food Restaurant</td>\n",
       "    </tr>\n",
       "    <tr>\n",
       "      <th>2</th>\n",
       "      <td>Five Guys</td>\n",
       "      <td>39.194824</td>\n",
       "      <td>-76.818855</td>\n",
       "      <td>Fast Food Restaurant</td>\n",
       "    </tr>\n",
       "    <tr>\n",
       "      <th>3</th>\n",
       "      <td>Qdoba Mexican Grill</td>\n",
       "      <td>39.199208</td>\n",
       "      <td>-76.819599</td>\n",
       "      <td>Fast Food Restaurant</td>\n",
       "    </tr>\n",
       "    <tr>\n",
       "      <th>4</th>\n",
       "      <td>Chick-fil-A</td>\n",
       "      <td>39.235150</td>\n",
       "      <td>-76.814688</td>\n",
       "      <td>Fast Food Restaurant</td>\n",
       "    </tr>\n",
       "    <tr>\n",
       "      <th>5</th>\n",
       "      <td>Jimmy John's</td>\n",
       "      <td>39.199634</td>\n",
       "      <td>-76.812755</td>\n",
       "      <td>Fast Food Restaurant</td>\n",
       "    </tr>\n",
       "  </tbody>\n",
       "</table>\n",
       "</div>"
      ],
      "text/plain": [
       "                 Venue   Latitude  Longitude        Venue Category\n",
       "0          Chick-fil-A  39.197625 -76.818496  Fast Food Restaurant\n",
       "2            Five Guys  39.194824 -76.818855  Fast Food Restaurant\n",
       "3  Qdoba Mexican Grill  39.199208 -76.819599  Fast Food Restaurant\n",
       "4          Chick-fil-A  39.235150 -76.814688  Fast Food Restaurant\n",
       "5         Jimmy John's  39.199634 -76.812755  Fast Food Restaurant"
      ]
     },
     "execution_count": 13,
     "metadata": {},
     "output_type": "execute_result"
    }
   ],
   "source": [
    "fast_food = fast_food.loc[fast_food['Venue Category'].isin(fast_food_list)]\n",
    "fast_food.head()"
   ]
  },
  {
   "cell_type": "code",
   "execution_count": 14,
   "metadata": {},
   "outputs": [
    {
     "data": {
      "text/plain": [
       "(1096, 4)"
      ]
     },
     "execution_count": 14,
     "metadata": {},
     "output_type": "execute_result"
    }
   ],
   "source": [
    "fast_food.shape"
   ]
  },
  {
   "cell_type": "code",
   "execution_count": 15,
   "metadata": {},
   "outputs": [
    {
     "data": {
      "text/html": [
       "<div>\n",
       "<style scoped>\n",
       "    .dataframe tbody tr th:only-of-type {\n",
       "        vertical-align: middle;\n",
       "    }\n",
       "\n",
       "    .dataframe tbody tr th {\n",
       "        vertical-align: top;\n",
       "    }\n",
       "\n",
       "    .dataframe thead th {\n",
       "        text-align: right;\n",
       "    }\n",
       "</style>\n",
       "<table border=\"1\" class=\"dataframe\">\n",
       "  <thead>\n",
       "    <tr style=\"text-align: right;\">\n",
       "      <th></th>\n",
       "      <th>Venue</th>\n",
       "      <th>Latitude</th>\n",
       "      <th>Longitude</th>\n",
       "      <th>Venue Category</th>\n",
       "      <th>food_group</th>\n",
       "    </tr>\n",
       "  </thead>\n",
       "  <tbody>\n",
       "    <tr>\n",
       "      <th>0</th>\n",
       "      <td>Chick-fil-A</td>\n",
       "      <td>39.197625</td>\n",
       "      <td>-76.818496</td>\n",
       "      <td>Fast Food Restaurant</td>\n",
       "      <td>Fast Food</td>\n",
       "    </tr>\n",
       "    <tr>\n",
       "      <th>2</th>\n",
       "      <td>Five Guys</td>\n",
       "      <td>39.194824</td>\n",
       "      <td>-76.818855</td>\n",
       "      <td>Fast Food Restaurant</td>\n",
       "      <td>Fast Food</td>\n",
       "    </tr>\n",
       "    <tr>\n",
       "      <th>3</th>\n",
       "      <td>Qdoba Mexican Grill</td>\n",
       "      <td>39.199208</td>\n",
       "      <td>-76.819599</td>\n",
       "      <td>Fast Food Restaurant</td>\n",
       "      <td>Fast Food</td>\n",
       "    </tr>\n",
       "    <tr>\n",
       "      <th>4</th>\n",
       "      <td>Chick-fil-A</td>\n",
       "      <td>39.235150</td>\n",
       "      <td>-76.814688</td>\n",
       "      <td>Fast Food Restaurant</td>\n",
       "      <td>Fast Food</td>\n",
       "    </tr>\n",
       "    <tr>\n",
       "      <th>5</th>\n",
       "      <td>Jimmy John's</td>\n",
       "      <td>39.199634</td>\n",
       "      <td>-76.812755</td>\n",
       "      <td>Fast Food Restaurant</td>\n",
       "      <td>Fast Food</td>\n",
       "    </tr>\n",
       "  </tbody>\n",
       "</table>\n",
       "</div>"
      ],
      "text/plain": [
       "                 Venue   Latitude  Longitude        Venue Category food_group\n",
       "0          Chick-fil-A  39.197625 -76.818496  Fast Food Restaurant  Fast Food\n",
       "2            Five Guys  39.194824 -76.818855  Fast Food Restaurant  Fast Food\n",
       "3  Qdoba Mexican Grill  39.199208 -76.819599  Fast Food Restaurant  Fast Food\n",
       "4          Chick-fil-A  39.235150 -76.814688  Fast Food Restaurant  Fast Food\n",
       "5         Jimmy John's  39.199634 -76.812755  Fast Food Restaurant  Fast Food"
      ]
     },
     "execution_count": 15,
     "metadata": {},
     "output_type": "execute_result"
    }
   ],
   "source": [
    "fast_food = fast_food.assign(food_group = 'Fast Food')\n",
    "fast_food.head()"
   ]
  },
  {
   "cell_type": "code",
   "execution_count": null,
   "metadata": {},
   "outputs": [],
   "source": []
  },
  {
   "cell_type": "markdown",
   "metadata": {},
   "source": [
    "#### Convenience store data"
   ]
  },
  {
   "cell_type": "code",
   "execution_count": 16,
   "metadata": {
    "scrolled": true
   },
   "outputs": [
    {
     "data": {
      "text/html": [
       "<div>\n",
       "<style scoped>\n",
       "    .dataframe tbody tr th:only-of-type {\n",
       "        vertical-align: middle;\n",
       "    }\n",
       "\n",
       "    .dataframe tbody tr th {\n",
       "        vertical-align: top;\n",
       "    }\n",
       "\n",
       "    .dataframe thead th {\n",
       "        text-align: right;\n",
       "    }\n",
       "</style>\n",
       "<table border=\"1\" class=\"dataframe\">\n",
       "  <thead>\n",
       "    <tr style=\"text-align: right;\">\n",
       "      <th></th>\n",
       "      <th>Venue</th>\n",
       "      <th>Latitude</th>\n",
       "      <th>Longitude</th>\n",
       "      <th>Venue Category</th>\n",
       "    </tr>\n",
       "  </thead>\n",
       "  <tbody>\n",
       "    <tr>\n",
       "      <th>0</th>\n",
       "      <td>Royal Farms</td>\n",
       "      <td>39.189040</td>\n",
       "      <td>-76.795969</td>\n",
       "      <td>Convenience Store</td>\n",
       "    </tr>\n",
       "    <tr>\n",
       "      <th>1</th>\n",
       "      <td>7-Eleven</td>\n",
       "      <td>39.227907</td>\n",
       "      <td>-76.812777</td>\n",
       "      <td>Convenience Store</td>\n",
       "    </tr>\n",
       "    <tr>\n",
       "      <th>2</th>\n",
       "      <td>7-Eleven</td>\n",
       "      <td>39.236512</td>\n",
       "      <td>-76.799396</td>\n",
       "      <td>Convenience Store</td>\n",
       "    </tr>\n",
       "    <tr>\n",
       "      <th>3</th>\n",
       "      <td>Royal Farms</td>\n",
       "      <td>39.226619</td>\n",
       "      <td>-76.817127</td>\n",
       "      <td>Convenience Store</td>\n",
       "    </tr>\n",
       "    <tr>\n",
       "      <th>4</th>\n",
       "      <td>Shell</td>\n",
       "      <td>39.215789</td>\n",
       "      <td>-76.804537</td>\n",
       "      <td>Convenience Store</td>\n",
       "    </tr>\n",
       "  </tbody>\n",
       "</table>\n",
       "</div>"
      ],
      "text/plain": [
       "         Venue   Latitude  Longitude     Venue Category\n",
       "0  Royal Farms  39.189040 -76.795969  Convenience Store\n",
       "1     7-Eleven  39.227907 -76.812777  Convenience Store\n",
       "2     7-Eleven  39.236512 -76.799396  Convenience Store\n",
       "3  Royal Farms  39.226619 -76.817127  Convenience Store\n",
       "4        Shell  39.215789 -76.804537  Convenience Store"
      ]
     },
     "execution_count": 16,
     "metadata": {},
     "output_type": "execute_result"
    }
   ],
   "source": [
    "url_convenience = 'https://raw.githubusercontent.com/kansjs/IBM_applied_capstone_share/master/Convenience.2.9.20.csv'\n",
    "convenience = pd.read_csv(url_convenience)\n",
    "convenience.head()"
   ]
  },
  {
   "cell_type": "code",
   "execution_count": 17,
   "metadata": {},
   "outputs": [
    {
     "data": {
      "text/plain": [
       "(1036, 4)"
      ]
     },
     "execution_count": 17,
     "metadata": {},
     "output_type": "execute_result"
    }
   ],
   "source": [
    "convenience.shape"
   ]
  },
  {
   "cell_type": "code",
   "execution_count": 18,
   "metadata": {},
   "outputs": [
    {
     "data": {
      "text/plain": [
       "array(['Convenience Store', 'Sandwich Place', 'Gas Station',\n",
       "       'Supermarket', 'Discount Store', 'Grocery Store', 'Deli / Bodega',\n",
       "       'Shopping Mall', 'German Restaurant', 'Pharmacy', 'Liquor Store',\n",
       "       'Chinese Restaurant', 'Coffee Shop', 'Car Wash', 'Office',\n",
       "       'Automotive Shop'], dtype=object)"
      ]
     },
     "execution_count": 18,
     "metadata": {},
     "output_type": "execute_result"
    }
   ],
   "source": [
    "convenience['Venue Category'].unique()"
   ]
  },
  {
   "cell_type": "code",
   "execution_count": 19,
   "metadata": {},
   "outputs": [],
   "source": [
    "convenience_list = ['Convenience Store', 'Grocery Store', 'Deli / Bodega']"
   ]
  },
  {
   "cell_type": "code",
   "execution_count": 20,
   "metadata": {},
   "outputs": [
    {
     "data": {
      "text/html": [
       "<div>\n",
       "<style scoped>\n",
       "    .dataframe tbody tr th:only-of-type {\n",
       "        vertical-align: middle;\n",
       "    }\n",
       "\n",
       "    .dataframe tbody tr th {\n",
       "        vertical-align: top;\n",
       "    }\n",
       "\n",
       "    .dataframe thead th {\n",
       "        text-align: right;\n",
       "    }\n",
       "</style>\n",
       "<table border=\"1\" class=\"dataframe\">\n",
       "  <thead>\n",
       "    <tr style=\"text-align: right;\">\n",
       "      <th></th>\n",
       "      <th>Venue</th>\n",
       "      <th>Latitude</th>\n",
       "      <th>Longitude</th>\n",
       "      <th>Venue Category</th>\n",
       "    </tr>\n",
       "  </thead>\n",
       "  <tbody>\n",
       "    <tr>\n",
       "      <th>0</th>\n",
       "      <td>Royal Farms</td>\n",
       "      <td>39.189040</td>\n",
       "      <td>-76.795969</td>\n",
       "      <td>Convenience Store</td>\n",
       "    </tr>\n",
       "    <tr>\n",
       "      <th>1</th>\n",
       "      <td>7-Eleven</td>\n",
       "      <td>39.227907</td>\n",
       "      <td>-76.812777</td>\n",
       "      <td>Convenience Store</td>\n",
       "    </tr>\n",
       "    <tr>\n",
       "      <th>2</th>\n",
       "      <td>7-Eleven</td>\n",
       "      <td>39.236512</td>\n",
       "      <td>-76.799396</td>\n",
       "      <td>Convenience Store</td>\n",
       "    </tr>\n",
       "    <tr>\n",
       "      <th>3</th>\n",
       "      <td>Royal Farms</td>\n",
       "      <td>39.226619</td>\n",
       "      <td>-76.817127</td>\n",
       "      <td>Convenience Store</td>\n",
       "    </tr>\n",
       "    <tr>\n",
       "      <th>4</th>\n",
       "      <td>Shell</td>\n",
       "      <td>39.215789</td>\n",
       "      <td>-76.804537</td>\n",
       "      <td>Convenience Store</td>\n",
       "    </tr>\n",
       "  </tbody>\n",
       "</table>\n",
       "</div>"
      ],
      "text/plain": [
       "         Venue   Latitude  Longitude     Venue Category\n",
       "0  Royal Farms  39.189040 -76.795969  Convenience Store\n",
       "1     7-Eleven  39.227907 -76.812777  Convenience Store\n",
       "2     7-Eleven  39.236512 -76.799396  Convenience Store\n",
       "3  Royal Farms  39.226619 -76.817127  Convenience Store\n",
       "4        Shell  39.215789 -76.804537  Convenience Store"
      ]
     },
     "execution_count": 20,
     "metadata": {},
     "output_type": "execute_result"
    }
   ],
   "source": [
    "convenience = convenience.loc[convenience['Venue Category'].isin(convenience_list)]\n",
    "convenience.head()"
   ]
  },
  {
   "cell_type": "code",
   "execution_count": 21,
   "metadata": {},
   "outputs": [
    {
     "data": {
      "text/plain": [
       "(950, 4)"
      ]
     },
     "execution_count": 21,
     "metadata": {},
     "output_type": "execute_result"
    }
   ],
   "source": [
    "convenience.shape"
   ]
  },
  {
   "cell_type": "code",
   "execution_count": 22,
   "metadata": {},
   "outputs": [
    {
     "data": {
      "text/html": [
       "<div>\n",
       "<style scoped>\n",
       "    .dataframe tbody tr th:only-of-type {\n",
       "        vertical-align: middle;\n",
       "    }\n",
       "\n",
       "    .dataframe tbody tr th {\n",
       "        vertical-align: top;\n",
       "    }\n",
       "\n",
       "    .dataframe thead th {\n",
       "        text-align: right;\n",
       "    }\n",
       "</style>\n",
       "<table border=\"1\" class=\"dataframe\">\n",
       "  <thead>\n",
       "    <tr style=\"text-align: right;\">\n",
       "      <th></th>\n",
       "      <th>Venue</th>\n",
       "      <th>Latitude</th>\n",
       "      <th>Longitude</th>\n",
       "      <th>Venue Category</th>\n",
       "      <th>food_group</th>\n",
       "    </tr>\n",
       "  </thead>\n",
       "  <tbody>\n",
       "    <tr>\n",
       "      <th>0</th>\n",
       "      <td>Royal Farms</td>\n",
       "      <td>39.189040</td>\n",
       "      <td>-76.795969</td>\n",
       "      <td>Convenience Store</td>\n",
       "      <td>Convenience</td>\n",
       "    </tr>\n",
       "    <tr>\n",
       "      <th>1</th>\n",
       "      <td>7-Eleven</td>\n",
       "      <td>39.227907</td>\n",
       "      <td>-76.812777</td>\n",
       "      <td>Convenience Store</td>\n",
       "      <td>Convenience</td>\n",
       "    </tr>\n",
       "    <tr>\n",
       "      <th>2</th>\n",
       "      <td>7-Eleven</td>\n",
       "      <td>39.236512</td>\n",
       "      <td>-76.799396</td>\n",
       "      <td>Convenience Store</td>\n",
       "      <td>Convenience</td>\n",
       "    </tr>\n",
       "    <tr>\n",
       "      <th>3</th>\n",
       "      <td>Royal Farms</td>\n",
       "      <td>39.226619</td>\n",
       "      <td>-76.817127</td>\n",
       "      <td>Convenience Store</td>\n",
       "      <td>Convenience</td>\n",
       "    </tr>\n",
       "    <tr>\n",
       "      <th>4</th>\n",
       "      <td>Shell</td>\n",
       "      <td>39.215789</td>\n",
       "      <td>-76.804537</td>\n",
       "      <td>Convenience Store</td>\n",
       "      <td>Convenience</td>\n",
       "    </tr>\n",
       "  </tbody>\n",
       "</table>\n",
       "</div>"
      ],
      "text/plain": [
       "         Venue   Latitude  Longitude     Venue Category   food_group\n",
       "0  Royal Farms  39.189040 -76.795969  Convenience Store  Convenience\n",
       "1     7-Eleven  39.227907 -76.812777  Convenience Store  Convenience\n",
       "2     7-Eleven  39.236512 -76.799396  Convenience Store  Convenience\n",
       "3  Royal Farms  39.226619 -76.817127  Convenience Store  Convenience\n",
       "4        Shell  39.215789 -76.804537  Convenience Store  Convenience"
      ]
     },
     "execution_count": 22,
     "metadata": {},
     "output_type": "execute_result"
    }
   ],
   "source": [
    "convenience = convenience.assign(food_group = 'Convenience')\n",
    "convenience.head()"
   ]
  },
  {
   "cell_type": "code",
   "execution_count": null,
   "metadata": {},
   "outputs": [],
   "source": []
  },
  {
   "cell_type": "markdown",
   "metadata": {},
   "source": [
    "#### Dollar store data"
   ]
  },
  {
   "cell_type": "code",
   "execution_count": 23,
   "metadata": {},
   "outputs": [
    {
     "data": {
      "text/html": [
       "<div>\n",
       "<style scoped>\n",
       "    .dataframe tbody tr th:only-of-type {\n",
       "        vertical-align: middle;\n",
       "    }\n",
       "\n",
       "    .dataframe tbody tr th {\n",
       "        vertical-align: top;\n",
       "    }\n",
       "\n",
       "    .dataframe thead th {\n",
       "        text-align: right;\n",
       "    }\n",
       "</style>\n",
       "<table border=\"1\" class=\"dataframe\">\n",
       "  <thead>\n",
       "    <tr style=\"text-align: right;\">\n",
       "      <th></th>\n",
       "      <th>Venue</th>\n",
       "      <th>Latitude</th>\n",
       "      <th>Longitude</th>\n",
       "      <th>Venue Category</th>\n",
       "    </tr>\n",
       "  </thead>\n",
       "  <tbody>\n",
       "    <tr>\n",
       "      <th>0</th>\n",
       "      <td>Nordstrom Rack</td>\n",
       "      <td>39.195553</td>\n",
       "      <td>-76.811755</td>\n",
       "      <td>Discount Store</td>\n",
       "    </tr>\n",
       "    <tr>\n",
       "      <th>1</th>\n",
       "      <td>Linq Services</td>\n",
       "      <td>39.190040</td>\n",
       "      <td>-76.747227</td>\n",
       "      <td>Discount Store</td>\n",
       "    </tr>\n",
       "    <tr>\n",
       "      <th>2</th>\n",
       "      <td>Hobby Lobby</td>\n",
       "      <td>39.183617</td>\n",
       "      <td>-76.816762</td>\n",
       "      <td>Fabric Shop</td>\n",
       "    </tr>\n",
       "    <tr>\n",
       "      <th>3</th>\n",
       "      <td>Five Below</td>\n",
       "      <td>39.155372</td>\n",
       "      <td>-76.725045</td>\n",
       "      <td>Discount Store</td>\n",
       "    </tr>\n",
       "    <tr>\n",
       "      <th>4</th>\n",
       "      <td>Nike Factory Store</td>\n",
       "      <td>39.157145</td>\n",
       "      <td>-76.724887</td>\n",
       "      <td>Sporting Goods Shop</td>\n",
       "    </tr>\n",
       "  </tbody>\n",
       "</table>\n",
       "</div>"
      ],
      "text/plain": [
       "                Venue   Latitude  Longitude       Venue Category\n",
       "0      Nordstrom Rack  39.195553 -76.811755       Discount Store\n",
       "1       Linq Services  39.190040 -76.747227       Discount Store\n",
       "2         Hobby Lobby  39.183617 -76.816762          Fabric Shop\n",
       "3          Five Below  39.155372 -76.725045       Discount Store\n",
       "4  Nike Factory Store  39.157145 -76.724887  Sporting Goods Shop"
      ]
     },
     "execution_count": 23,
     "metadata": {},
     "output_type": "execute_result"
    }
   ],
   "source": [
    "url_dollar = 'https://raw.githubusercontent.com/kansjs/IBM_applied_capstone_share/master/Discount.2.9.20.csv'\n",
    "dollar = pd.read_csv(url_dollar)\n",
    "dollar.head()"
   ]
  },
  {
   "cell_type": "code",
   "execution_count": 24,
   "metadata": {},
   "outputs": [
    {
     "data": {
      "text/plain": [
       "(187, 4)"
      ]
     },
     "execution_count": 24,
     "metadata": {},
     "output_type": "execute_result"
    }
   ],
   "source": [
    "dollar.shape"
   ]
  },
  {
   "cell_type": "code",
   "execution_count": 25,
   "metadata": {},
   "outputs": [
    {
     "data": {
      "text/html": [
       "<div>\n",
       "<style scoped>\n",
       "    .dataframe tbody tr th:only-of-type {\n",
       "        vertical-align: middle;\n",
       "    }\n",
       "\n",
       "    .dataframe tbody tr th {\n",
       "        vertical-align: top;\n",
       "    }\n",
       "\n",
       "    .dataframe thead th {\n",
       "        text-align: right;\n",
       "    }\n",
       "</style>\n",
       "<table border=\"1\" class=\"dataframe\">\n",
       "  <thead>\n",
       "    <tr style=\"text-align: right;\">\n",
       "      <th></th>\n",
       "      <th>Venue</th>\n",
       "      <th>Latitude</th>\n",
       "      <th>Longitude</th>\n",
       "      <th>Venue Category</th>\n",
       "    </tr>\n",
       "  </thead>\n",
       "  <tbody>\n",
       "    <tr>\n",
       "      <th>6</th>\n",
       "      <td>Dollar Tree</td>\n",
       "      <td>39.130623</td>\n",
       "      <td>-76.741255</td>\n",
       "      <td>Discount Store</td>\n",
       "    </tr>\n",
       "    <tr>\n",
       "      <th>7</th>\n",
       "      <td>Dollar Tree</td>\n",
       "      <td>39.152376</td>\n",
       "      <td>-76.724854</td>\n",
       "      <td>Discount Store</td>\n",
       "    </tr>\n",
       "    <tr>\n",
       "      <th>8</th>\n",
       "      <td>Dollar Tree</td>\n",
       "      <td>39.169805</td>\n",
       "      <td>-76.785313</td>\n",
       "      <td>Discount Store</td>\n",
       "    </tr>\n",
       "    <tr>\n",
       "      <th>10</th>\n",
       "      <td>Dollar Tree</td>\n",
       "      <td>39.168411</td>\n",
       "      <td>-76.785727</td>\n",
       "      <td>Discount Store</td>\n",
       "    </tr>\n",
       "    <tr>\n",
       "      <th>12</th>\n",
       "      <td>Dollar Tree</td>\n",
       "      <td>39.186829</td>\n",
       "      <td>-76.841552</td>\n",
       "      <td>Discount Store</td>\n",
       "    </tr>\n",
       "  </tbody>\n",
       "</table>\n",
       "</div>"
      ],
      "text/plain": [
       "          Venue   Latitude  Longitude  Venue Category\n",
       "6   Dollar Tree  39.130623 -76.741255  Discount Store\n",
       "7   Dollar Tree  39.152376 -76.724854  Discount Store\n",
       "8   Dollar Tree  39.169805 -76.785313  Discount Store\n",
       "10  Dollar Tree  39.168411 -76.785727  Discount Store\n",
       "12  Dollar Tree  39.186829 -76.841552  Discount Store"
      ]
     },
     "execution_count": 25,
     "metadata": {},
     "output_type": "execute_result"
    }
   ],
   "source": [
    "dollar = dollar[dollar['Venue'].str.contains('Dollar')]\n",
    "dollar.head()"
   ]
  },
  {
   "cell_type": "code",
   "execution_count": 26,
   "metadata": {},
   "outputs": [
    {
     "data": {
      "text/plain": [
       "(115, 4)"
      ]
     },
     "execution_count": 26,
     "metadata": {},
     "output_type": "execute_result"
    }
   ],
   "source": [
    "dollar.shape"
   ]
  },
  {
   "cell_type": "code",
   "execution_count": 27,
   "metadata": {},
   "outputs": [
    {
     "data": {
      "text/html": [
       "<div>\n",
       "<style scoped>\n",
       "    .dataframe tbody tr th:only-of-type {\n",
       "        vertical-align: middle;\n",
       "    }\n",
       "\n",
       "    .dataframe tbody tr th {\n",
       "        vertical-align: top;\n",
       "    }\n",
       "\n",
       "    .dataframe thead th {\n",
       "        text-align: right;\n",
       "    }\n",
       "</style>\n",
       "<table border=\"1\" class=\"dataframe\">\n",
       "  <thead>\n",
       "    <tr style=\"text-align: right;\">\n",
       "      <th></th>\n",
       "      <th>Venue</th>\n",
       "      <th>Latitude</th>\n",
       "      <th>Longitude</th>\n",
       "      <th>Venue Category</th>\n",
       "      <th>food_group</th>\n",
       "    </tr>\n",
       "  </thead>\n",
       "  <tbody>\n",
       "    <tr>\n",
       "      <th>6</th>\n",
       "      <td>Dollar Tree</td>\n",
       "      <td>39.130623</td>\n",
       "      <td>-76.741255</td>\n",
       "      <td>Discount Store</td>\n",
       "      <td>Dollar</td>\n",
       "    </tr>\n",
       "    <tr>\n",
       "      <th>7</th>\n",
       "      <td>Dollar Tree</td>\n",
       "      <td>39.152376</td>\n",
       "      <td>-76.724854</td>\n",
       "      <td>Discount Store</td>\n",
       "      <td>Dollar</td>\n",
       "    </tr>\n",
       "    <tr>\n",
       "      <th>8</th>\n",
       "      <td>Dollar Tree</td>\n",
       "      <td>39.169805</td>\n",
       "      <td>-76.785313</td>\n",
       "      <td>Discount Store</td>\n",
       "      <td>Dollar</td>\n",
       "    </tr>\n",
       "    <tr>\n",
       "      <th>10</th>\n",
       "      <td>Dollar Tree</td>\n",
       "      <td>39.168411</td>\n",
       "      <td>-76.785727</td>\n",
       "      <td>Discount Store</td>\n",
       "      <td>Dollar</td>\n",
       "    </tr>\n",
       "    <tr>\n",
       "      <th>12</th>\n",
       "      <td>Dollar Tree</td>\n",
       "      <td>39.186829</td>\n",
       "      <td>-76.841552</td>\n",
       "      <td>Discount Store</td>\n",
       "      <td>Dollar</td>\n",
       "    </tr>\n",
       "  </tbody>\n",
       "</table>\n",
       "</div>"
      ],
      "text/plain": [
       "          Venue   Latitude  Longitude  Venue Category food_group\n",
       "6   Dollar Tree  39.130623 -76.741255  Discount Store     Dollar\n",
       "7   Dollar Tree  39.152376 -76.724854  Discount Store     Dollar\n",
       "8   Dollar Tree  39.169805 -76.785313  Discount Store     Dollar\n",
       "10  Dollar Tree  39.168411 -76.785727  Discount Store     Dollar\n",
       "12  Dollar Tree  39.186829 -76.841552  Discount Store     Dollar"
      ]
     },
     "execution_count": 27,
     "metadata": {},
     "output_type": "execute_result"
    }
   ],
   "source": [
    "dollar = dollar.assign(food_group = 'Dollar')\n",
    "dollar.head()"
   ]
  },
  {
   "cell_type": "code",
   "execution_count": null,
   "metadata": {},
   "outputs": [],
   "source": []
  },
  {
   "cell_type": "markdown",
   "metadata": {},
   "source": [
    "#### Data merge"
   ]
  },
  {
   "cell_type": "code",
   "execution_count": 28,
   "metadata": {},
   "outputs": [
    {
     "data": {
      "text/html": [
       "<div>\n",
       "<style scoped>\n",
       "    .dataframe tbody tr th:only-of-type {\n",
       "        vertical-align: middle;\n",
       "    }\n",
       "\n",
       "    .dataframe tbody tr th {\n",
       "        vertical-align: top;\n",
       "    }\n",
       "\n",
       "    .dataframe thead th {\n",
       "        text-align: right;\n",
       "    }\n",
       "</style>\n",
       "<table border=\"1\" class=\"dataframe\">\n",
       "  <thead>\n",
       "    <tr style=\"text-align: right;\">\n",
       "      <th></th>\n",
       "      <th>Venue</th>\n",
       "      <th>Latitude</th>\n",
       "      <th>Longitude</th>\n",
       "      <th>Venue Category</th>\n",
       "      <th>food_group</th>\n",
       "    </tr>\n",
       "  </thead>\n",
       "  <tbody>\n",
       "    <tr>\n",
       "      <th>0</th>\n",
       "      <td>Trader Joe's</td>\n",
       "      <td>39.188164</td>\n",
       "      <td>-76.795467</td>\n",
       "      <td>Supermarket</td>\n",
       "      <td>Supermarket</td>\n",
       "    </tr>\n",
       "    <tr>\n",
       "      <th>1</th>\n",
       "      <td>Target</td>\n",
       "      <td>39.197493</td>\n",
       "      <td>-76.813360</td>\n",
       "      <td>Big Box Store</td>\n",
       "      <td>Supermarket</td>\n",
       "    </tr>\n",
       "    <tr>\n",
       "      <th>2</th>\n",
       "      <td>Giant</td>\n",
       "      <td>39.210065</td>\n",
       "      <td>-76.778580</td>\n",
       "      <td>Supermarket</td>\n",
       "      <td>Supermarket</td>\n",
       "    </tr>\n",
       "    <tr>\n",
       "      <th>3</th>\n",
       "      <td>Green Valley Marketplace</td>\n",
       "      <td>39.206965</td>\n",
       "      <td>-76.729124</td>\n",
       "      <td>Supermarket</td>\n",
       "      <td>Supermarket</td>\n",
       "    </tr>\n",
       "    <tr>\n",
       "      <th>4</th>\n",
       "      <td>Safeway</td>\n",
       "      <td>39.251080</td>\n",
       "      <td>-76.818721</td>\n",
       "      <td>Supermarket</td>\n",
       "      <td>Supermarket</td>\n",
       "    </tr>\n",
       "  </tbody>\n",
       "</table>\n",
       "</div>"
      ],
      "text/plain": [
       "                      Venue   Latitude  Longitude Venue Category   food_group\n",
       "0              Trader Joe's  39.188164 -76.795467    Supermarket  Supermarket\n",
       "1                    Target  39.197493 -76.813360  Big Box Store  Supermarket\n",
       "2                     Giant  39.210065 -76.778580    Supermarket  Supermarket\n",
       "3  Green Valley Marketplace  39.206965 -76.729124    Supermarket  Supermarket\n",
       "4                   Safeway  39.251080 -76.818721    Supermarket  Supermarket"
      ]
     },
     "execution_count": 28,
     "metadata": {},
     "output_type": "execute_result"
    }
   ],
   "source": [
    "DMV_merged = supermarket.copy()\n",
    "DMV_merged = DMV_merged.append(fast_food)\n",
    "DMV_merged = DMV_merged.append(convenience)\n",
    "DMV_merged = DMV_merged.append(dollar)\n",
    "DMV_merged.head()"
   ]
  },
  {
   "cell_type": "code",
   "execution_count": 29,
   "metadata": {},
   "outputs": [
    {
     "data": {
      "text/plain": [
       "(2464, 5)"
      ]
     },
     "execution_count": 29,
     "metadata": {},
     "output_type": "execute_result"
    }
   ],
   "source": [
    "DMV_merged.shape"
   ]
  },
  {
   "cell_type": "code",
   "execution_count": 30,
   "metadata": {},
   "outputs": [],
   "source": [
    "DMV_merged.to_csv('DMV_food 2.9.20.csv', index=False)"
   ]
  },
  {
   "cell_type": "code",
   "execution_count": null,
   "metadata": {},
   "outputs": [],
   "source": []
  },
  {
   "cell_type": "code",
   "execution_count": null,
   "metadata": {},
   "outputs": [],
   "source": []
  },
  {
   "cell_type": "code",
   "execution_count": null,
   "metadata": {},
   "outputs": [],
   "source": []
  },
  {
   "cell_type": "code",
   "execution_count": null,
   "metadata": {},
   "outputs": [],
   "source": []
  }
 ],
 "metadata": {
  "kernelspec": {
   "display_name": "Python 3",
   "language": "python",
   "name": "python3"
  },
  "language_info": {
   "codemirror_mode": {
    "name": "ipython",
    "version": 3
   },
   "file_extension": ".py",
   "mimetype": "text/x-python",
   "name": "python",
   "nbconvert_exporter": "python",
   "pygments_lexer": "ipython3",
   "version": "3.7.0"
  }
 },
 "nbformat": 4,
 "nbformat_minor": 2
}
